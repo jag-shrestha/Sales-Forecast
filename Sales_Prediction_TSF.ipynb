{
 "cells": [
  {
   "cell_type": "code",
   "execution_count": 197,
   "id": "056ad2d4",
   "metadata": {},
   "outputs": [],
   "source": [
    "import pandas as pd\n",
    "import numpy as np\n",
    "import os\n",
    "import matplotlib.pyplot as plt\n",
    "import seaborn as sns\n",
    "import statsmodels.api as sm\n",
    "from statsmodels.tsa.stattools import adfuller, acf, pacf\n",
    "from pandas.plotting import autocorrelation_plot\n",
    "from statsmodels.graphics.tsaplots import plot_pacf, plot_acf\n",
    "from statsmodels.tsa.arima.model import ARIMA\n",
    "import pmdarima as pm\n",
    "from sklearn.model_selection import train_test_split\n",
    "from sklearn.metrics import mean_squared_error, accuracy_score\n",
    "\n",
    "import warnings\n",
    "warnings.filterwarnings('ignore')"
   ]
  },
  {
   "cell_type": "code",
   "execution_count": null,
   "id": "d3a80303",
   "metadata": {},
   "outputs": [],
   "source": [
    "holidays_events = pd.read_csv('Data/holidays_events.csv')\n",
    "oil = pd.read_csv('Data/oil.csv')\n",
    "stores = pd.read_csv('Data/stores.csv')\n",
    "test = pd.read_csv('Data/test.csv')\n",
    "train = pd.read_csv('Data/train.csv')\n",
    "transactions = pd.read_csv('Data/transactions.csv')"
   ]
  },
  {
   "cell_type": "code",
   "execution_count": null,
   "id": "3262a283",
   "metadata": {},
   "outputs": [],
   "source": [
    "holidays_events[\"date\"] = pd.to_datetime(holidays_events.date)\n",
    "oil[\"date\"] = pd.to_datetime(oil.date)\n",
    "test[\"date\"] = pd.to_datetime(test.date)\n",
    "train[\"date\"] = pd.to_datetime(train.date)\n",
    "transactions[\"date\"] = pd.to_datetime(transactions.date)"
   ]
  },
  {
   "cell_type": "code",
   "execution_count": null,
   "id": "5ac6c376",
   "metadata": {},
   "outputs": [],
   "source": [
    "oil['dcoilwtico'].fillna(np.nanmedian(oil.dcoilwtico), inplace = True)\n",
    "oil.head(3)"
   ]
  },
  {
   "cell_type": "code",
   "execution_count": null,
   "id": "47adf795",
   "metadata": {},
   "outputs": [],
   "source": [
    "stores.head(3)"
   ]
  },
  {
   "cell_type": "code",
   "execution_count": null,
   "id": "78f4425a",
   "metadata": {},
   "outputs": [],
   "source": [
    "train.head(3)"
   ]
  },
  {
   "cell_type": "code",
   "execution_count": null,
   "id": "10c36291",
   "metadata": {},
   "outputs": [],
   "source": [
    "test.head(3)"
   ]
  },
  {
   "cell_type": "code",
   "execution_count": null,
   "id": "cf19d66c",
   "metadata": {},
   "outputs": [],
   "source": [
    "transactions.head(3)"
   ]
  },
  {
   "cell_type": "code",
   "execution_count": null,
   "id": "dd1752d4",
   "metadata": {},
   "outputs": [],
   "source": [
    "#Relation of features of train and oil dataframes with sales \n",
    "plt.figure(figsize=(12, 12))\n",
    "train_oil = pd.merge(train, oil, how='left')\n",
    "sns.heatmap(train_oil.corr(), annot=True)\n",
    "plt.plot"
   ]
  },
  {
   "cell_type": "code",
   "execution_count": null,
   "id": "0dd4e385",
   "metadata": {},
   "outputs": [],
   "source": [
    "#Is there co-relation of store_nbr with each other w.r.t sales\n",
    "a = train[[\"store_nbr\", \"sales\"]]\n",
    "a[\"ind\"] = 1\n",
    "a[\"ind\"] = a.groupby(\"store_nbr\").ind.cumsum().values\n",
    "a = pd.pivot(a, index = \"ind\", columns = \"store_nbr\", values = \"sales\").corr()\n",
    "plt.figure(figsize=(20, 20))\n",
    "sns.heatmap(a,\n",
    "        annot=True,\n",
    "        fmt='.1f',\n",
    "        cmap='coolwarm',\n",
    "        square=True,\n",
    "        linewidths=1,\n",
    "        cbar=False)\n",
    "plt.title(\"Correlations among stores\",fontsize = 20)\n",
    "plt.show()"
   ]
  },
  {
   "cell_type": "code",
   "execution_count": null,
   "id": "1c66859a",
   "metadata": {},
   "outputs": [],
   "source": [
    "train.shape"
   ]
  },
  {
   "cell_type": "code",
   "execution_count": null,
   "id": "0767996d",
   "metadata": {},
   "outputs": [],
   "source": [
    "train = train[~((train.store_nbr == 52) & (train.date < \"2017-04-20\"))]\n",
    "train = train[~((train.store_nbr == 22) & (train.date < \"2015-10-09\"))]\n",
    "train = train[~((train.store_nbr == 42) & (train.date < \"2015-08-21\"))]\n",
    "train = train[~((train.store_nbr == 21) & (train.date < \"2015-07-24\"))]\n",
    "train = train[~((train.store_nbr == 29) & (train.date < \"2015-03-20\"))]\n",
    "train = train[~((train.store_nbr == 20) & (train.date < \"2015-02-13\"))]\n",
    "train = train[~((train.store_nbr == 53) & (train.date < \"2014-05-29\"))]\n",
    "train = train[~((train.store_nbr == 36) & (train.date < \"2013-05-09\"))]\n",
    "train.shape"
   ]
  },
  {
   "cell_type": "code",
   "execution_count": null,
   "id": "948ac6b5",
   "metadata": {},
   "outputs": [],
   "source": [
    "# Stores which never sold products of particular family type.\n",
    "sales_dependednt_on_family = train.groupby([\"store_nbr\", \"family\"]).sales.sum().reset_index().sort_values([\"family\",\"store_nbr\"])\n",
    "sales_dependednt_on_family = sales_dependednt_on_family[sales_dependednt_on_family.sales == 0]\n",
    "sales_dependednt_on_family"
   ]
  },
  {
   "cell_type": "code",
   "execution_count": null,
   "id": "90108977",
   "metadata": {},
   "outputs": [],
   "source": [
    "#Remove the entries from train where sales for a family type will always be zero, as calculated above\n",
    "outer_join = train.merge(sales_dependednt_on_family.drop(\"sales\",axis = 1), how = 'outer', indicator = True)\n",
    "train = outer_join[~(outer_join._merge == 'both')].drop('_merge', axis = 1)\n",
    "del outer_join\n",
    "train.shape"
   ]
  },
  {
   "cell_type": "code",
   "execution_count": null,
   "id": "3811191e",
   "metadata": {},
   "outputs": [],
   "source": [
    "#If we need to predict sales of product 'A' by store '1' when '1' never sold it, it will automatically return 0. \n",
    "zero_prediction = []\n",
    "for i in range(0,len(sales_dependednt_on_family)):\n",
    "    zero_prediction.append(\n",
    "        pd.DataFrame({\n",
    "            \"date\":pd.date_range(\"2017-08-16\", \"2017-08-31\").tolist(),\n",
    "            \"store_nbr\":sales_dependednt_on_family.store_nbr.iloc[i],\n",
    "            \"family\":sales_dependednt_on_family.family.iloc[i],\n",
    "            \"sales\":0\n",
    "        })\n",
    "    )\n",
    "zero_prediction = pd.concat(zero_prediction)\n",
    "del sales_dependednt_on_family\n",
    "zero_prediction"
   ]
  },
  {
   "cell_type": "code",
   "execution_count": null,
   "id": "9f2671ee",
   "metadata": {},
   "outputs": [],
   "source": [
    "# Product from which family type is sold the most.\n",
    "pd.set_option('display.float_format', lambda x: '%.3f' % x)\n",
    "plt.figure(figsize=(20, 20))\n",
    "train_family = train.set_index(\"date\").groupby(\"family\").resample(\"D\").sales.sum().reset_index()\n",
    "grp_by = train_family.groupby('family')['sales'].sum().reset_index()\n",
    "plt.barh(grp_by['family'],grp_by['sales'])\n",
    "plt.show()"
   ]
  },
  {
   "cell_type": "code",
   "execution_count": null,
   "id": "c41d2748",
   "metadata": {},
   "outputs": [],
   "source": [
    "#Merged train and store and added a new column - 'year'\n",
    "train_sales = pd.merge(train, stores)\n",
    "train_sales[\"store_nbr\"] = train_sales[\"store_nbr\"].astype(\"int8\")\n",
    "train_sales[\"year\"] = (train_sales.date.dt.year).astype('Int64', errors='ignore')\n",
    "train_sales.head(2)"
   ]
  },
  {
   "cell_type": "code",
   "execution_count": null,
   "id": "7a5c9e48",
   "metadata": {},
   "outputs": [],
   "source": [
    "sales_perCity_perYr = train_sales.groupby([\"city\", \"year\"]).sales.mean().reset_index()"
   ]
  },
  {
   "cell_type": "code",
   "execution_count": null,
   "id": "852aad23",
   "metadata": {},
   "outputs": [],
   "source": [
    "cities = set(sales_perCity_perYr['city'])\n",
    "plt.figure(figsize=(12, 12))\n",
    "\n",
    "for city in cities:\n",
    "     selected_data = sales_perCity_perYr.loc[sales_perCity_perYr['city'] == city]\n",
    "     plt.plot(selected_data['year'], selected_data['sales'], label=city)\n",
    "\n",
    "plt.xticks([2013, 2014, 2015, 2016, 2017])\n",
    "plt.grid()\n",
    "plt.legend()\n",
    "plt.show()"
   ]
  },
  {
   "cell_type": "code",
   "execution_count": null,
   "id": "2eb9daca",
   "metadata": {},
   "outputs": [],
   "source": [
    "holidays_events.head(3)"
   ]
  },
  {
   "cell_type": "code",
   "execution_count": null,
   "id": "78a1a3fc",
   "metadata": {},
   "outputs": [],
   "source": [
    "holidays_events.shape"
   ]
  },
  {
   "cell_type": "code",
   "execution_count": null,
   "id": "1c32b745",
   "metadata": {},
   "outputs": [],
   "source": [
    "holidays_events['type'].unique()"
   ]
  },
  {
   "cell_type": "code",
   "execution_count": null,
   "id": "be9139cf",
   "metadata": {},
   "outputs": [],
   "source": [
    "# Transferred Holidays - A holiday reschedules to some other day\n",
    "tr1 = holidays_events[(holidays_events.type == \"Holiday\") & (holidays_events.transferred == True)].drop(\"transferred\", axis = 1).reset_index(drop = True)\n",
    "tr2 = holidays_events[(holidays_events.type == \"Transfer\")].drop(\"transferred\", axis = 1).reset_index(drop = True)\n",
    "# So transfered_holidays -> when people were actually getting holiday with proper details.\n",
    "transfered_holidays = tr1[['type', 'locale', 'locale_name', 'description']]\n",
    "transfered_holidays['date'] = tr2['date']\n",
    "transfered_holidays.head(3)"
   ]
  },
  {
   "cell_type": "code",
   "execution_count": null,
   "id": "8a490d5a",
   "metadata": {},
   "outputs": [],
   "source": [
    "holidays = holidays_events[(holidays_events['transferred'] == False) & (holidays_events['type'] != \"Transfer\")].drop(\"transferred\", axis = 1)\n",
    "holidays = holidays.append(transfered_holidays).reset_index(drop = True)\n",
    "holidays.head(3)"
   ]
  },
  {
   "cell_type": "code",
   "execution_count": null,
   "id": "61185d56",
   "metadata": {},
   "outputs": [],
   "source": [
    "holidays[\"description\"] = holidays[\"description\"].str.replace(\"-\", \"\").str.replace(\"+\", \"\").str.replace('\\d+', '')\n",
    "holidays[\"type\"] = np.where(holidays[\"type\"] == \"Additional\", \"Holiday\", holidays[\"type\"])"
   ]
  },
  {
   "cell_type": "code",
   "execution_count": null,
   "id": "bacbc156",
   "metadata": {},
   "outputs": [],
   "source": [
    "holidays[\"description\"] = holidays[\"description\"].str.replace(\"Puente \", \"\")\n",
    "holidays[\"type\"] = np.where(holidays[\"type\"] == \"Bridge\", \"Holiday\", holidays[\"type\"])"
   ]
  },
  {
   "cell_type": "code",
   "execution_count": null,
   "id": "a1972079",
   "metadata": {},
   "outputs": [],
   "source": [
    "holidays[\"type\"].unique()"
   ]
  },
  {
   "cell_type": "code",
   "execution_count": null,
   "id": "3dd08d73",
   "metadata": {},
   "outputs": [],
   "source": [
    "work_day = holidays[holidays.type == \"Work Day\"]  \n",
    "holidays = holidays[holidays.type != \"Work Day\"]  "
   ]
  },
  {
   "cell_type": "code",
   "execution_count": null,
   "id": "077c9ba8",
   "metadata": {},
   "outputs": [],
   "source": [
    "events = holidays[holidays.type == \"Event\"].drop([\"type\", \"locale\", \"locale_name\"], axis = 1).rename({\"description\":\"events\"}, axis = 1)\n",
    "holidays = holidays[holidays.type != \"Event\"].drop(\"type\", axis = 1)\n",
    "events.head(3)"
   ]
  },
  {
   "cell_type": "code",
   "execution_count": null,
   "id": "d0933638",
   "metadata": {},
   "outputs": [],
   "source": [
    "holidays.head(2)"
   ]
  },
  {
   "cell_type": "code",
   "execution_count": null,
   "id": "1908142f",
   "metadata": {},
   "outputs": [],
   "source": [
    "holidays[\"locale\"].unique()"
   ]
  },
  {
   "cell_type": "code",
   "execution_count": null,
   "id": "4a4d5f70",
   "metadata": {},
   "outputs": [],
   "source": [
    "local = holidays[holidays.locale == \"Local\"].rename({\"description\":\"holiday_local\", \"locale_name\":\"city\"}, axis = 1).drop(\"locale\", axis = 1).drop_duplicates()\n",
    "local.head(3)"
   ]
  },
  {
   "cell_type": "code",
   "execution_count": null,
   "id": "2a22e11b",
   "metadata": {},
   "outputs": [],
   "source": [
    "regional = holidays[holidays['locale'] == \"Regional\"].rename({\"locale_name\":\"state\", \"description\":\"holiday_regional\"}, axis = 1).drop(\"locale\", axis = 1).drop_duplicates()\n",
    "regional.head(3)"
   ]
  },
  {
   "cell_type": "code",
   "execution_count": null,
   "id": "41cc974c",
   "metadata": {},
   "outputs": [],
   "source": [
    "national = holidays[holidays.locale == \"National\"].rename({\"description\":\"holiday_national\"}, axis = 1).drop([\"locale\", \"locale_name\"], axis = 1).drop_duplicates()\n",
    "national.head(3)"
   ]
  },
  {
   "cell_type": "code",
   "execution_count": null,
   "id": "f90c6049",
   "metadata": {},
   "outputs": [],
   "source": [
    "print(train.shape)\n",
    "print(test.shape)"
   ]
  },
  {
   "cell_type": "code",
   "execution_count": null,
   "id": "333936b5",
   "metadata": {},
   "outputs": [],
   "source": [
    "df = pd.merge(train.append(test), stores)\n",
    "df[\"store_nbr\"] = df[\"store_nbr\"].astype(\"int8\")\n",
    "df.head(3)"
   ]
  },
  {
   "cell_type": "code",
   "execution_count": null,
   "id": "db2bad50",
   "metadata": {},
   "outputs": [],
   "source": [
    "df = pd.merge(df, national, how = \"left\")\n",
    "df = pd.merge(df, regional, how = \"left\", on = [\"date\", \"state\"])\n",
    "df = pd.merge(df, local, how = \"left\", on = [\"date\", \"city\"])"
   ]
  },
  {
   "cell_type": "code",
   "execution_count": null,
   "id": "dfa82514",
   "metadata": {},
   "outputs": [],
   "source": [
    "df = pd.merge(df, work_day[[\"date\", \"type\"]].rename({\"type\":\"IsWorkDay\"}, axis = 1),how = \"left\")"
   ]
  },
  {
   "cell_type": "code",
   "execution_count": null,
   "id": "b41ddc22",
   "metadata": {},
   "outputs": [],
   "source": [
    "df.head(3)"
   ]
  },
  {
   "cell_type": "code",
   "execution_count": null,
   "id": "adae5de3",
   "metadata": {},
   "outputs": [],
   "source": [
    "def one_hot_encoder(df, nan_as_category=True):\n",
    "    original_columns = list(df.columns)\n",
    "    categorical_columns = df.select_dtypes([\"category\", \"object\"]).columns.tolist()\n",
    "    #dummy_na : If true, it will create new column when nan = True\n",
    "    df = pd.get_dummies(df, columns=categorical_columns, dummy_na=nan_as_category)\n",
    "    new_columns = [c for c in df.columns if c not in original_columns]\n",
    "    df.columns = df.columns.str.replace(\" \", \"_\")\n",
    "    return df, df.columns.tolist()"
   ]
  },
  {
   "cell_type": "code",
   "execution_count": null,
   "id": "6ccd9fa0",
   "metadata": {},
   "outputs": [],
   "source": [
    "events, events_cat = one_hot_encoder(events, nan_as_category=False)"
   ]
  },
  {
   "cell_type": "code",
   "execution_count": null,
   "id": "fa2c9059",
   "metadata": {},
   "outputs": [],
   "source": [
    "events[events['date'].duplicated(keep=False)]"
   ]
  },
  {
   "cell_type": "code",
   "execution_count": null,
   "id": "a8fdf37e",
   "metadata": {},
   "outputs": [],
   "source": [
    "#Because of 2016.05.08, there were two events. pd.dummied would have created duplicate entries, so here marking 2nd one as True as well\n",
    "events[\"events_Dia_de_la_Madre\"] = np.where(events.date == \"2016-05-08\", 1,events[\"events_Dia_de_la_Madre\"])\n",
    "events = events.drop(239)"
   ]
  },
  {
   "cell_type": "code",
   "execution_count": null,
   "id": "cd0010cf",
   "metadata": {},
   "outputs": [],
   "source": [
    "df = df.merge(events, how = 'left')"
   ]
  },
  {
   "cell_type": "code",
   "execution_count": null,
   "id": "157f0659",
   "metadata": {},
   "outputs": [],
   "source": [
    "df.head(2)"
   ]
  },
  {
   "cell_type": "code",
   "execution_count": null,
   "id": "90e3b4fa",
   "metadata": {},
   "outputs": [],
   "source": [
    "# Filling Null values\n",
    "df[events_cat] = df[events_cat].fillna(0)\n",
    "\n",
    "# Adding New features as binarised holiday types\n",
    "df[\"holiday_national_binary\"] = np.where(df.holiday_national.notnull(), 1, 0)\n",
    "df[\"holiday_local_binary\"] = np.where(df.holiday_local.notnull(), 1, 0)\n",
    "df[\"holiday_regional_binary\"] = np.where(df.holiday_regional.notnull(), 1, 0)\n",
    "df.head(3)"
   ]
  },
  {
   "cell_type": "code",
   "execution_count": null,
   "id": "7f00f45b",
   "metadata": {},
   "outputs": [],
   "source": [
    "#Converting holiday types to binaries\n",
    "df[\"national_independence\"] = np.where(df.holiday_national.isin(['Batalla de Pichincha','Independencia de Cuenca','Independencia de Guayaquil','Independencia de Guayaquil','Primer Grito de Independencia']), 1, 0)\n",
    "df[\"local_cantonizacio\"] = np.where(df.holiday_local.str.contains(\"Cantonizacio\"), 1, 0)\n",
    "df[\"local_fundacion\"] = np.where(df.holiday_local.str.contains(\"Fundacion\"), 1, 0)\n",
    "df[\"local_independencia\"] = np.where(df.holiday_local.str.contains(\"Independencia\"), 1, 0)"
   ]
  },
  {
   "cell_type": "code",
   "execution_count": null,
   "id": "34dfafcc",
   "metadata": {},
   "outputs": [],
   "source": [
    "holidays, holidays_cat = one_hot_encoder(df[[\"holiday_national\",\"holiday_regional\",\"holiday_local\"]], nan_as_category=False)"
   ]
  },
  {
   "cell_type": "code",
   "execution_count": null,
   "id": "0488e3db",
   "metadata": {},
   "outputs": [],
   "source": [
    "df = pd.concat([df.drop([\"holiday_national\",\"holiday_regional\",\"holiday_local\"], axis = 1), holidays], axis = 1)"
   ]
  },
  {
   "cell_type": "code",
   "execution_count": null,
   "id": "0920bf0b",
   "metadata": {},
   "outputs": [],
   "source": [
    "# Ensured that all dummies are int8 type\n",
    "he_cols = df.columns[df.columns.str.startswith(\"events\")].tolist() + df.columns[df.columns.str.startswith(\"holiday\")].tolist() + df.columns[df.columns.str.startswith(\"national\")].tolist()+ df.columns[df.columns.str.startswith(\"local\")].tolist()\n",
    "df[he_cols] = df[he_cols].astype(\"int8\")"
   ]
  },
  {
   "cell_type": "code",
   "execution_count": null,
   "id": "c4356b7a",
   "metadata": {},
   "outputs": [],
   "source": [
    "# Ensuring category type of certain features\n",
    "df[[\"family\", \"city\", \"state\", \"type\"]] = df[[\"family\", \"city\", \"state\", \"type\"]].astype(\"category\")"
   ]
  },
  {
   "cell_type": "code",
   "execution_count": null,
   "id": "2f12831e",
   "metadata": {},
   "outputs": [],
   "source": [
    "del holidays, holidays_cat, work_day, local, regional, national, events, events_cat, transfered_holidays, tr1, tr2, he_cols"
   ]
  },
  {
   "cell_type": "code",
   "execution_count": null,
   "id": "b11a3286",
   "metadata": {},
   "outputs": [],
   "source": [
    "df.head()"
   ]
  },
  {
   "cell_type": "code",
   "execution_count": null,
   "id": "17471801",
   "metadata": {},
   "outputs": [],
   "source": [
    "#Fetching info from data\n",
    "def create_date_features(df):\n",
    "    df['month'] = df.date.dt.month.astype(\"int8\")\n",
    "    df['day_of_month'] = df.date.dt.day.astype(\"int8\")  \n",
    "    df['day_of_week'] = (df.date.dt.dayofweek + 1).astype(\"int8\")\n",
    "    df['year'] = df.date.dt.year.astype(\"int32\")\n",
    "    df[\"is_wknd\"] = (df.date.dt.weekday // 4).astype(\"int8\")\n",
    "    df['is_month_start'] = df.date.dt.is_month_start.astype(\"int8\")\n",
    "    df['is_month_end'] = df.date.dt.is_month_end.astype(\"int8\")\n",
    "    df['is_year_start'] = df.date.dt.is_year_start.astype(\"int8\")\n",
    "    df['is_year_end'] = df.date.dt.is_year_end.astype(\"int8\")\n",
    "    # 0: Winter - 1: Spring - 2: Summer - 3: Fall\n",
    "    df[\"season\"] = np.where(df.month.isin([12,1,2]), 0, 1)\n",
    "    df[\"season\"] = np.where(df.month.isin([6,7,8]), 2, df[\"season\"])\n",
    "    df[\"season\"] = pd.Series(np.where(df.month.isin([9, 10, 11]), 3, df[\"season\"])).astype(\"int8\")\n",
    "    df['day_of_year'] = df.date.dt.dayofyear.astype(\"int16\")\n",
    "#     df['week_of_month'] = (df.date.apply(lambda d: (d.day-1) // 7 + 1)).astype(\"int8\")\n",
    "#     df['week_of_year'] = (df.date.dt.weekofyear).astype(\"int8\")\n",
    "#     df[\"quarter\"] = df.date.dt.quarter.astype(\"int8\")\n",
    "#     df[\"quarter\"] = df.date.dt.quarter.astype(\"int8\")\n",
    "#     df['is_quarter_start'] = df.date.dt.is_quarter_start.astype(\"int8\")\n",
    "#     df['is_quarter_end'] = df.date.dt.is_quarter_end.astype(\"int8\")\n",
    "    return df\n",
    "df = create_date_features(df)"
   ]
  },
  {
   "cell_type": "code",
   "execution_count": null,
   "id": "75240608",
   "metadata": {},
   "outputs": [],
   "source": [
    "df[\"workday\"] = np.where((df.holiday_national_binary == 1) | (df.holiday_local_binary==1) | (df.holiday_regional_binary==1) | (df['day_of_week'].isin([6,7])), 0, 1)\n",
    "df.drop(\"IsWorkDay\", axis = 1, inplace = True)"
   ]
  },
  {
   "cell_type": "code",
   "execution_count": null,
   "id": "39713370",
   "metadata": {},
   "outputs": [],
   "source": [
    "df[\"wageday\"] = pd.Series(np.where((df['is_month_end'] == 1) | (df[\"day_of_month\"] == 15), 1, 0)).astype(\"int8\")"
   ]
  },
  {
   "cell_type": "code",
   "execution_count": null,
   "id": "30f26de0",
   "metadata": {},
   "outputs": [],
   "source": [
    "df.head(2)"
   ]
  },
  {
   "cell_type": "markdown",
   "id": "84dc689d",
   "metadata": {},
   "source": [
    "As there was Earthquack April 16, 2016, so looking into mean data of March, Apr-May and June too see if there is drop/hike in sales that could act as outlier."
   ]
  },
  {
   "cell_type": "code",
   "execution_count": null,
   "id": "ba27e8b3",
   "metadata": {},
   "outputs": [],
   "source": [
    "df[(df['month'].isin([4,5]))].groupby([\"year\"]).sales.mean()"
   ]
  },
  {
   "cell_type": "code",
   "execution_count": null,
   "id": "e0b733f8",
   "metadata": {},
   "outputs": [],
   "source": [
    "pd.pivot_table(df[(df['month'].isin([3]))], index=\"year\", columns=\"family\", values=\"sales\", aggfunc=\"mean\")"
   ]
  },
  {
   "cell_type": "code",
   "execution_count": null,
   "id": "1ae3ad4e",
   "metadata": {},
   "outputs": [],
   "source": [
    "pd.pivot_table(df[(df['month'].isin([4,5]))], index=\"year\", columns=\"family\", values=\"sales\", aggfunc=\"mean\")"
   ]
  },
  {
   "cell_type": "code",
   "execution_count": null,
   "id": "f4839cc8",
   "metadata": {},
   "outputs": [],
   "source": [
    "pd.pivot_table(df[(df['month'].isin([6]))], index=\"year\", columns=\"family\", values=\"sales\", aggfunc=\"mean\")"
   ]
  },
  {
   "cell_type": "markdown",
   "id": "c061830f",
   "metadata": {},
   "source": [
    "No major drop or hike"
   ]
  },
  {
   "cell_type": "code",
   "execution_count": null,
   "id": "33dae43a",
   "metadata": {},
   "outputs": [],
   "source": [
    "df.to_csv('Data/final_data.csv', index=False)"
   ]
  },
  {
   "cell_type": "code",
   "execution_count": 2,
   "id": "c5d7cd37",
   "metadata": {},
   "outputs": [],
   "source": [
    "df = pd.read_csv('Data/final_data.csv')"
   ]
  },
  {
   "cell_type": "code",
   "execution_count": 3,
   "id": "93fe578d",
   "metadata": {},
   "outputs": [
    {
     "data": {
      "text/html": [
       "<div>\n",
       "<style scoped>\n",
       "    .dataframe tbody tr th:only-of-type {\n",
       "        vertical-align: middle;\n",
       "    }\n",
       "\n",
       "    .dataframe tbody tr th {\n",
       "        vertical-align: top;\n",
       "    }\n",
       "\n",
       "    .dataframe thead th {\n",
       "        text-align: right;\n",
       "    }\n",
       "</style>\n",
       "<table border=\"1\" class=\"dataframe\">\n",
       "  <thead>\n",
       "    <tr style=\"text-align: right;\">\n",
       "      <th></th>\n",
       "      <th>id</th>\n",
       "      <th>date</th>\n",
       "      <th>store_nbr</th>\n",
       "      <th>family</th>\n",
       "      <th>sales</th>\n",
       "      <th>onpromotion</th>\n",
       "      <th>city</th>\n",
       "      <th>state</th>\n",
       "      <th>type</th>\n",
       "      <th>cluster</th>\n",
       "      <th>...</th>\n",
       "      <th>year</th>\n",
       "      <th>is_wknd</th>\n",
       "      <th>is_month_start</th>\n",
       "      <th>is_month_end</th>\n",
       "      <th>is_year_start</th>\n",
       "      <th>is_year_end</th>\n",
       "      <th>season</th>\n",
       "      <th>day_of_year</th>\n",
       "      <th>workday</th>\n",
       "      <th>wageday</th>\n",
       "    </tr>\n",
       "  </thead>\n",
       "  <tbody>\n",
       "    <tr>\n",
       "      <th>0</th>\n",
       "      <td>0</td>\n",
       "      <td>2013-01-01</td>\n",
       "      <td>1</td>\n",
       "      <td>AUTOMOTIVE</td>\n",
       "      <td>0.0</td>\n",
       "      <td>0</td>\n",
       "      <td>Quito</td>\n",
       "      <td>Pichincha</td>\n",
       "      <td>D</td>\n",
       "      <td>13</td>\n",
       "      <td>...</td>\n",
       "      <td>2013</td>\n",
       "      <td>0</td>\n",
       "      <td>1</td>\n",
       "      <td>0</td>\n",
       "      <td>1</td>\n",
       "      <td>0</td>\n",
       "      <td>0</td>\n",
       "      <td>1</td>\n",
       "      <td>0</td>\n",
       "      <td>0</td>\n",
       "    </tr>\n",
       "    <tr>\n",
       "      <th>1</th>\n",
       "      <td>1782</td>\n",
       "      <td>2013-01-02</td>\n",
       "      <td>1</td>\n",
       "      <td>AUTOMOTIVE</td>\n",
       "      <td>2.0</td>\n",
       "      <td>0</td>\n",
       "      <td>Quito</td>\n",
       "      <td>Pichincha</td>\n",
       "      <td>D</td>\n",
       "      <td>13</td>\n",
       "      <td>...</td>\n",
       "      <td>2013</td>\n",
       "      <td>0</td>\n",
       "      <td>0</td>\n",
       "      <td>0</td>\n",
       "      <td>0</td>\n",
       "      <td>0</td>\n",
       "      <td>0</td>\n",
       "      <td>2</td>\n",
       "      <td>1</td>\n",
       "      <td>0</td>\n",
       "    </tr>\n",
       "  </tbody>\n",
       "</table>\n",
       "<p>2 rows × 81 columns</p>\n",
       "</div>"
      ],
      "text/plain": [
       "     id        date  store_nbr      family  sales  onpromotion   city  \\\n",
       "0     0  2013-01-01          1  AUTOMOTIVE    0.0            0  Quito   \n",
       "1  1782  2013-01-02          1  AUTOMOTIVE    2.0            0  Quito   \n",
       "\n",
       "       state type  cluster  ...  year  is_wknd  is_month_start  is_month_end  \\\n",
       "0  Pichincha    D       13  ...  2013        0               1             0   \n",
       "1  Pichincha    D       13  ...  2013        0               0             0   \n",
       "\n",
       "   is_year_start  is_year_end  season  day_of_year  workday  wageday  \n",
       "0              1            0       0            1        0        0  \n",
       "1              0            0       0            2        1        0  \n",
       "\n",
       "[2 rows x 81 columns]"
      ]
     },
     "execution_count": 3,
     "metadata": {},
     "output_type": "execute_result"
    }
   ],
   "source": [
    "df.head(2)"
   ]
  },
  {
   "cell_type": "markdown",
   "id": "e57b2b61",
   "metadata": {},
   "source": [
    "Stationarity Check"
   ]
  },
  {
   "cell_type": "code",
   "execution_count": 4,
   "id": "9d6d8d6a",
   "metadata": {},
   "outputs": [
    {
     "data": {
      "text/html": [
       "<div>\n",
       "<style scoped>\n",
       "    .dataframe tbody tr th:only-of-type {\n",
       "        vertical-align: middle;\n",
       "    }\n",
       "\n",
       "    .dataframe tbody tr th {\n",
       "        vertical-align: top;\n",
       "    }\n",
       "\n",
       "    .dataframe thead th {\n",
       "        text-align: right;\n",
       "    }\n",
       "</style>\n",
       "<table border=\"1\" class=\"dataframe\">\n",
       "  <thead>\n",
       "    <tr style=\"text-align: right;\">\n",
       "      <th></th>\n",
       "      <th>year</th>\n",
       "      <th>month</th>\n",
       "      <th>sales</th>\n",
       "    </tr>\n",
       "  </thead>\n",
       "  <tbody>\n",
       "    <tr>\n",
       "      <th>0</th>\n",
       "      <td>2013</td>\n",
       "      <td>1</td>\n",
       "      <td>1.032762e+07</td>\n",
       "    </tr>\n",
       "    <tr>\n",
       "      <th>1</th>\n",
       "      <td>2013</td>\n",
       "      <td>2</td>\n",
       "      <td>9.658960e+06</td>\n",
       "    </tr>\n",
       "    <tr>\n",
       "      <th>2</th>\n",
       "      <td>2013</td>\n",
       "      <td>3</td>\n",
       "      <td>1.142850e+07</td>\n",
       "    </tr>\n",
       "    <tr>\n",
       "      <th>3</th>\n",
       "      <td>2013</td>\n",
       "      <td>4</td>\n",
       "      <td>1.099346e+07</td>\n",
       "    </tr>\n",
       "    <tr>\n",
       "      <th>4</th>\n",
       "      <td>2013</td>\n",
       "      <td>5</td>\n",
       "      <td>1.159770e+07</td>\n",
       "    </tr>\n",
       "  </tbody>\n",
       "</table>\n",
       "</div>"
      ],
      "text/plain": [
       "   year  month         sales\n",
       "0  2013      1  1.032762e+07\n",
       "1  2013      2  9.658960e+06\n",
       "2  2013      3  1.142850e+07\n",
       "3  2013      4  1.099346e+07\n",
       "4  2013      5  1.159770e+07"
      ]
     },
     "execution_count": 4,
     "metadata": {},
     "output_type": "execute_result"
    }
   ],
   "source": [
    "yr_mnth_sales = df.groupby(['year','month'])['sales'].sum().reset_index()\n",
    "yr_mnth_sales.head()"
   ]
  },
  {
   "cell_type": "code",
   "execution_count": 5,
   "id": "731665cc",
   "metadata": {},
   "outputs": [
    {
     "data": {
      "text/html": [
       "<div>\n",
       "<style scoped>\n",
       "    .dataframe tbody tr th:only-of-type {\n",
       "        vertical-align: middle;\n",
       "    }\n",
       "\n",
       "    .dataframe tbody tr th {\n",
       "        vertical-align: top;\n",
       "    }\n",
       "\n",
       "    .dataframe thead th {\n",
       "        text-align: right;\n",
       "    }\n",
       "</style>\n",
       "<table border=\"1\" class=\"dataframe\">\n",
       "  <thead>\n",
       "    <tr style=\"text-align: right;\">\n",
       "      <th></th>\n",
       "      <th>sales</th>\n",
       "    </tr>\n",
       "    <tr>\n",
       "      <th>date</th>\n",
       "      <th></th>\n",
       "    </tr>\n",
       "  </thead>\n",
       "  <tbody>\n",
       "    <tr>\n",
       "      <th>2013-01-01</th>\n",
       "      <td>1.032762e+07</td>\n",
       "    </tr>\n",
       "    <tr>\n",
       "      <th>2013-02-01</th>\n",
       "      <td>9.658960e+06</td>\n",
       "    </tr>\n",
       "  </tbody>\n",
       "</table>\n",
       "</div>"
      ],
      "text/plain": [
       "                   sales\n",
       "date                    \n",
       "2013-01-01  1.032762e+07\n",
       "2013-02-01  9.658960e+06"
      ]
     },
     "execution_count": 5,
     "metadata": {},
     "output_type": "execute_result"
    }
   ],
   "source": [
    "yr_mnth_sales['date'] = pd.to_datetime(dict(year=yr_mnth_sales['year'], month=yr_mnth_sales['month'], day='01'))\n",
    "yr_mnth_sales.drop(['year','month'], axis = 1, inplace = True)\n",
    "yr_mnth_sales.set_index('date', inplace = True)\n",
    "yr_mnth_sales.head(2)"
   ]
  },
  {
   "cell_type": "code",
   "execution_count": 6,
   "id": "d7675b7e",
   "metadata": {},
   "outputs": [],
   "source": [
    "def test_stationarity(dataframe):\n",
    "    #Rolling Mean and Rolling Std\n",
    "    plt.figure(figsize=(16,16))\n",
    "    rollMean = dataframe.rolling(12).mean()\n",
    "    rollStd = dataframe.rolling(12).std()\n",
    "    orignal = plt.plot(dataframe, color = \"blue\", label = \"Original\")\n",
    "    mean = plt.plot(rollMean, color = \"red\", label = \"Rolling Mean\")\n",
    "    std = plt.plot(rollStd, color = \"green\", label = \"Rolling Std\")\n",
    "    plt.legend(loc = 'best')\n",
    "    plt.title(\"Rolling Stationarity Test\")\n",
    "    plt.show()\n",
    "    \n",
    "    #Dicky Fuller Test\n",
    "    df_test = adfuller(dataframe, autolag='AIC')\n",
    "    df_output = pd.Series(df_test[0:4], index = ['Test Stats', 'p-value', 'Lags Used', 'No of observations'])\n",
    "    for key in df_test[4]:\n",
    "        df_output[f'Critical Value {key}'] = df_test[4][key]\n",
    "    print(df_output)\n",
    "    return rollMean"
   ]
  },
  {
   "cell_type": "code",
   "execution_count": 7,
   "id": "c06df051",
   "metadata": {
    "scrolled": false
   },
   "outputs": [
    {
     "data": {
      "image/png": "[encoded data removed]",
      "text/plain": [
       "<Figure size 1152x1152 with 1 Axes>"
      ]
     },
     "metadata": {
      "needs_background": "light"
     },
     "output_type": "display_data"
    },
    {
     "name": "stdout",
     "output_type": "stream",
     "text": [
      "Test Stats            -2.045287\n",
      "p-value                0.267076\n",
      "Lags Used              1.000000\n",
      "No of observations    54.000000\n",
      "Critical Value 1%     -3.557709\n",
      "Critical Value 5%     -2.916770\n",
      "Critical Value 10%    -2.596222\n",
      "dtype: float64\n"
     ]
    }
   ],
   "source": [
    "roll_mean_orig = test_stationarity(yr_mnth_sales)"
   ]
  },
  {
   "cell_type": "code",
   "execution_count": 8,
   "id": "2848775c",
   "metadata": {},
   "outputs": [
    {
     "data": {
      "text/html": [
       "<div>\n",
       "<style scoped>\n",
       "    .dataframe tbody tr th:only-of-type {\n",
       "        vertical-align: middle;\n",
       "    }\n",
       "\n",
       "    .dataframe tbody tr th {\n",
       "        vertical-align: top;\n",
       "    }\n",
       "\n",
       "    .dataframe thead th {\n",
       "        text-align: right;\n",
       "    }\n",
       "</style>\n",
       "<table border=\"1\" class=\"dataframe\">\n",
       "  <thead>\n",
       "    <tr style=\"text-align: right;\">\n",
       "      <th></th>\n",
       "      <th>sales</th>\n",
       "    </tr>\n",
       "    <tr>\n",
       "      <th>date</th>\n",
       "      <th></th>\n",
       "    </tr>\n",
       "  </thead>\n",
       "  <tbody>\n",
       "    <tr>\n",
       "      <th>2013-01-01</th>\n",
       "      <td>16.150333</td>\n",
       "    </tr>\n",
       "    <tr>\n",
       "      <th>2013-02-01</th>\n",
       "      <td>16.083397</td>\n",
       "    </tr>\n",
       "    <tr>\n",
       "      <th>2013-03-01</th>\n",
       "      <td>16.251621</td>\n",
       "    </tr>\n",
       "    <tr>\n",
       "      <th>2013-04-01</th>\n",
       "      <td>16.212812</td>\n",
       "    </tr>\n",
       "    <tr>\n",
       "      <th>2013-05-01</th>\n",
       "      <td>16.266318</td>\n",
       "    </tr>\n",
       "  </tbody>\n",
       "</table>\n",
       "</div>"
      ],
      "text/plain": [
       "                sales\n",
       "date                 \n",
       "2013-01-01  16.150333\n",
       "2013-02-01  16.083397\n",
       "2013-03-01  16.251621\n",
       "2013-04-01  16.212812\n",
       "2013-05-01  16.266318"
      ]
     },
     "execution_count": 8,
     "metadata": {},
     "output_type": "execute_result"
    }
   ],
   "source": [
    "log_transform = yr_mnth_sales\n",
    "log_transform = np.log(log_transform)\n",
    "log_transform.head()"
   ]
  },
  {
   "cell_type": "code",
   "execution_count": 9,
   "id": "254c46c9",
   "metadata": {},
   "outputs": [
    {
     "data": {
      "image/png": "[encoded data removed]",
      "text/plain": [
       "<Figure size 1152x1152 with 1 Axes>"
      ]
     },
     "metadata": {
      "needs_background": "light"
     },
     "output_type": "display_data"
    },
    {
     "name": "stdout",
     "output_type": "stream",
     "text": [
      "Test Stats            -2.185525\n",
      "p-value                0.211541\n",
      "Lags Used              1.000000\n",
      "No of observations    54.000000\n",
      "Critical Value 1%     -3.557709\n",
      "Critical Value 5%     -2.916770\n",
      "Critical Value 10%    -2.596222\n",
      "dtype: float64\n"
     ]
    }
   ],
   "source": [
    "roll_mean_log = test_stationarity(log_transform)"
   ]
  },
  {
   "cell_type": "code",
   "execution_count": 10,
   "id": "05dfa1c3",
   "metadata": {},
   "outputs": [
    {
     "data": {
      "text/plain": [
       "date\n",
       "2013-12-01    0.307093\n",
       "2014-01-01    0.436251\n",
       "Name: sales, dtype: float64"
      ]
     },
     "execution_count": 10,
     "metadata": {},
     "output_type": "execute_result"
    }
   ],
   "source": [
    "log_ma_diff = log_transform['sales'] - roll_mean_log['sales']\n",
    "log_ma_diff.dropna(inplace = True)\n",
    "log_ma_diff.head(2)"
   ]
  },
  {
   "cell_type": "code",
   "execution_count": 11,
   "id": "f12b9a83",
   "metadata": {},
   "outputs": [
    {
     "data": {
      "image/png": "[encoded data removed]",
      "text/plain": [
       "<Figure size 432x288 with 1 Axes>"
      ]
     },
     "execution_count": 11,
     "metadata": {},
     "output_type": "execute_result"
    },
    {
     "data": {
      "image/png": "[encoded data removed]",
      "text/plain": [
       "<Figure size 432x288 with 1 Axes>"
      ]
     },
     "metadata": {
      "needs_background": "light"
     },
     "output_type": "display_data"
    }
   ],
   "source": [
    "plot_acf(log_transform['sales'], lags = 40)"
   ]
  },
  {
   "cell_type": "markdown",
   "id": "93510473",
   "metadata": {},
   "source": [
    "So as the curve crosses the critical point line near 3.5-4, lets experiment with q = 3,4"
   ]
  },
  {
   "cell_type": "code",
   "execution_count": 12,
   "id": "72e9d30a",
   "metadata": {},
   "outputs": [
    {
     "data": {
      "image/png": "[encoded data removed]",
      "text/plain": [
       "<Figure size 432x288 with 1 Axes>"
      ]
     },
     "execution_count": 12,
     "metadata": {},
     "output_type": "execute_result"
    },
    {
     "data": {
      "image/png": "[encoded data removed]",
      "text/plain": [
       "<Figure size 432x288 with 1 Axes>"
      ]
     },
     "metadata": {
      "needs_background": "light"
     },
     "output_type": "display_data"
    }
   ],
   "source": [
    "plot_pacf(log_transform['sales'], lags = 20)"
   ]
  },
  {
   "cell_type": "markdown",
   "id": "8b04b52c",
   "metadata": {},
   "source": [
    "As the bars cross critical point 3 times, lets experiment with p = 3,4"
   ]
  },
  {
   "cell_type": "markdown",
   "id": "535a1025",
   "metadata": {},
   "source": [
    "# Train- Test splitting"
   ]
  },
  {
   "cell_type": "code",
   "execution_count": 13,
   "id": "c6ee0e96",
   "metadata": {},
   "outputs": [],
   "source": [
    "percent_70 = round(len(log_transform) *0.7)"
   ]
  },
  {
   "cell_type": "code",
   "execution_count": 28,
   "id": "34f249f7",
   "metadata": {},
   "outputs": [],
   "source": [
    "train = log_transform[: percent_70]\n",
    "test = log_transform[percent_70:]"
   ]
  },
  {
   "cell_type": "code",
   "execution_count": 29,
   "id": "cac79463",
   "metadata": {},
   "outputs": [
    {
     "data": {
      "text/plain": [
       "(17, 1)"
      ]
     },
     "execution_count": 29,
     "metadata": {},
     "output_type": "execute_result"
    }
   ],
   "source": [
    "test.shape"
   ]
  },
  {
   "cell_type": "code",
   "execution_count": 30,
   "id": "288c52fa",
   "metadata": {},
   "outputs": [
    {
     "name": "stdout",
     "output_type": "stream",
     "text": [
      "                sales\n",
      "date                 \n",
      "2015-11-01  16.942488\n",
      "2015-12-01  17.120343\n",
      "2016-01-01  16.992639\n",
      "2016-02-01  16.904160\n",
      "2016-03-01  16.956718\n",
      "                sales\n",
      "date                 \n",
      "2016-04-01  17.072184\n",
      "2016-05-01  17.025525\n",
      "2016-06-01  16.916018\n",
      "2016-07-01  16.970921\n",
      "2016-08-01  16.926909\n"
     ]
    }
   ],
   "source": [
    "print(train.tail())\n",
    "print(test.head())"
   ]
  },
  {
   "cell_type": "code",
   "execution_count": 227,
   "id": "bb241d3d",
   "metadata": {},
   "outputs": [],
   "source": [
    "model = ARIMA(train, order = (2, 1 ,2))"
   ]
  },
  {
   "cell_type": "code",
   "execution_count": 228,
   "id": "a932c44f",
   "metadata": {},
   "outputs": [],
   "source": [
    "model_fitted = model.fit()"
   ]
  },
  {
   "cell_type": "code",
   "execution_count": 229,
   "id": "2d1154d3",
   "metadata": {},
   "outputs": [],
   "source": [
    "y_pred = model_fitted.forecast(17, alpha=0.05)"
   ]
  },
  {
   "cell_type": "code",
   "execution_count": 189,
   "id": "4869c029",
   "metadata": {},
   "outputs": [
    {
     "data": {
      "text/html": [
       "<div>\n",
       "<style scoped>\n",
       "    .dataframe tbody tr th:only-of-type {\n",
       "        vertical-align: middle;\n",
       "    }\n",
       "\n",
       "    .dataframe tbody tr th {\n",
       "        vertical-align: top;\n",
       "    }\n",
       "\n",
       "    .dataframe thead th {\n",
       "        text-align: right;\n",
       "    }\n",
       "</style>\n",
       "<table border=\"1\" class=\"dataframe\">\n",
       "  <thead>\n",
       "    <tr style=\"text-align: right;\">\n",
       "      <th></th>\n",
       "      <th>y_pred</th>\n",
       "      <th>y_actual</th>\n",
       "    </tr>\n",
       "  </thead>\n",
       "  <tbody>\n",
       "    <tr>\n",
       "      <th>2016-04-01</th>\n",
       "      <td>16.935298</td>\n",
       "      <td>17.072184</td>\n",
       "    </tr>\n",
       "    <tr>\n",
       "      <th>2016-05-01</th>\n",
       "      <td>16.942734</td>\n",
       "      <td>17.025525</td>\n",
       "    </tr>\n",
       "    <tr>\n",
       "      <th>2016-06-01</th>\n",
       "      <td>16.940401</td>\n",
       "      <td>16.916018</td>\n",
       "    </tr>\n",
       "    <tr>\n",
       "      <th>2016-07-01</th>\n",
       "      <td>16.941077</td>\n",
       "      <td>16.970921</td>\n",
       "    </tr>\n",
       "    <tr>\n",
       "      <th>2016-08-01</th>\n",
       "      <td>16.940895</td>\n",
       "      <td>16.926909</td>\n",
       "    </tr>\n",
       "    <tr>\n",
       "      <th>2016-09-01</th>\n",
       "      <td>16.940940</td>\n",
       "      <td>16.925350</td>\n",
       "    </tr>\n",
       "    <tr>\n",
       "      <th>2016-10-01</th>\n",
       "      <td>16.940930</td>\n",
       "      <td>16.994830</td>\n",
       "    </tr>\n",
       "    <tr>\n",
       "      <th>2016-11-01</th>\n",
       "      <td>16.940932</td>\n",
       "      <td>17.019989</td>\n",
       "    </tr>\n",
       "    <tr>\n",
       "      <th>2016-12-01</th>\n",
       "      <td>16.940932</td>\n",
       "      <td>17.204645</td>\n",
       "    </tr>\n",
       "    <tr>\n",
       "      <th>2017-01-01</th>\n",
       "      <td>16.940932</td>\n",
       "      <td>17.086150</td>\n",
       "    </tr>\n",
       "    <tr>\n",
       "      <th>2017-02-01</th>\n",
       "      <td>16.940932</td>\n",
       "      <td>16.961821</td>\n",
       "    </tr>\n",
       "    <tr>\n",
       "      <th>2017-03-01</th>\n",
       "      <td>16.940932</td>\n",
       "      <td>17.100325</td>\n",
       "    </tr>\n",
       "    <tr>\n",
       "      <th>2017-04-01</th>\n",
       "      <td>16.940932</td>\n",
       "      <td>17.069572</td>\n",
       "    </tr>\n",
       "    <tr>\n",
       "      <th>2017-05-01</th>\n",
       "      <td>16.940932</td>\n",
       "      <td>17.108077</td>\n",
       "    </tr>\n",
       "    <tr>\n",
       "      <th>2017-06-01</th>\n",
       "      <td>16.940932</td>\n",
       "      <td>17.061333</td>\n",
       "    </tr>\n",
       "    <tr>\n",
       "      <th>2017-07-01</th>\n",
       "      <td>16.940932</td>\n",
       "      <td>17.111772</td>\n",
       "    </tr>\n",
       "    <tr>\n",
       "      <th>2017-08-01</th>\n",
       "      <td>16.940932</td>\n",
       "      <td>16.335891</td>\n",
       "    </tr>\n",
       "  </tbody>\n",
       "</table>\n",
       "</div>"
      ],
      "text/plain": [
       "               y_pred   y_actual\n",
       "2016-04-01  16.935298  17.072184\n",
       "2016-05-01  16.942734  17.025525\n",
       "2016-06-01  16.940401  16.916018\n",
       "2016-07-01  16.941077  16.970921\n",
       "2016-08-01  16.940895  16.926909\n",
       "2016-09-01  16.940940  16.925350\n",
       "2016-10-01  16.940930  16.994830\n",
       "2016-11-01  16.940932  17.019989\n",
       "2016-12-01  16.940932  17.204645\n",
       "2017-01-01  16.940932  17.086150\n",
       "2017-02-01  16.940932  16.961821\n",
       "2017-03-01  16.940932  17.100325\n",
       "2017-04-01  16.940932  17.069572\n",
       "2017-05-01  16.940932  17.108077\n",
       "2017-06-01  16.940932  17.061333\n",
       "2017-07-01  16.940932  17.111772\n",
       "2017-08-01  16.940932  16.335891"
      ]
     },
     "execution_count": 189,
     "metadata": {},
     "output_type": "execute_result"
    }
   ],
   "source": [
    "pred_actual = pd.DataFrame({'y_pred' : y_pred, 'y_actual': y_actual})\n",
    "pred_actual"
   ]
  },
  {
   "cell_type": "code",
   "execution_count": 230,
   "id": "aa46a402",
   "metadata": {},
   "outputs": [
    {
     "data": {
      "image/png": "[encoded data removed]",
      "text/plain": [
       "<Figure size 432x288 with 1 Axes>"
      ]
     },
     "metadata": {
      "needs_background": "light"
     },
     "output_type": "display_data"
    }
   ],
   "source": [
    "plt.plot(y_pred, color='blue', label='Prediction Value')\n",
    "plt.plot(y_actual, color='red', label = 'Actual Value')\n",
    "plt.legend(loc = 'best')\n",
    "plt.show()"
   ]
  },
  {
   "cell_type": "code",
   "execution_count": 231,
   "id": "7549c0c1",
   "metadata": {},
   "outputs": [
    {
     "data": {
      "text/plain": [
       "0.18978515641245947"
      ]
     },
     "execution_count": 231,
     "metadata": {},
     "output_type": "execute_result"
    }
   ],
   "source": [
    "np.sqrt(mean_squared_error(y_pred, y_actual))"
   ]
  },
  {
   "cell_type": "markdown",
   "id": "6d7929e6",
   "metadata": {},
   "source": [
    "### Lets try with Auto Arima Now"
   ]
  },
  {
   "cell_type": "code",
   "execution_count": 232,
   "id": "9e50f6e5",
   "metadata": {},
   "outputs": [
    {
     "name": "stdout",
     "output_type": "stream",
     "text": [
      "Performing stepwise search to minimize aic\n",
      " ARIMA(1,1,1)(0,0,0)[0] intercept   : AIC=-16.535, Time=0.05 sec\n",
      " ARIMA(0,1,0)(0,0,0)[0] intercept   : AIC=-7.897, Time=0.04 sec\n",
      " ARIMA(1,1,0)(0,0,0)[0] intercept   : AIC=-17.980, Time=0.03 sec\n",
      " ARIMA(0,1,1)(0,0,0)[0] intercept   : AIC=inf, Time=0.16 sec\n",
      " ARIMA(0,1,0)(0,0,0)[0]             : AIC=-9.500, Time=0.04 sec\n",
      " ARIMA(2,1,0)(0,0,0)[0] intercept   : AIC=-16.492, Time=0.07 sec\n",
      " ARIMA(2,1,1)(0,0,0)[0] intercept   : AIC=-14.495, Time=0.11 sec\n",
      " ARIMA(1,1,0)(0,0,0)[0]             : AIC=-18.705, Time=0.03 sec\n",
      " ARIMA(2,1,0)(0,0,0)[0]             : AIC=-16.947, Time=0.08 sec\n",
      " ARIMA(1,1,1)(0,0,0)[0]             : AIC=-16.908, Time=0.10 sec\n",
      " ARIMA(0,1,1)(0,0,0)[0]             : AIC=-17.808, Time=0.04 sec\n",
      " ARIMA(2,1,1)(0,0,0)[0]             : AIC=-14.986, Time=0.16 sec\n",
      "\n",
      "Best model:  ARIMA(1,1,0)(0,0,0)[0]          \n",
      "Total fit time: 0.911 seconds\n"
     ]
    }
   ],
   "source": [
    "model = pm.auto_arima(train, start_p=1, start_q=1,\n",
    "                      test='adf',       # use adftest to find optimal 'd'\n",
    "                      max_p=3, max_q=3, # maximum p and q\n",
    "                      m=1,              # frequency of series\n",
    "                      d=1,           # let model determine 'd'\n",
    "                      seasonal=True,   # No Seasonality\n",
    "                      D=0, trace=True,\n",
    "                      error_action='ignore',  \n",
    "                      suppress_warnings=True, \n",
    "                      stepwise=True)"
   ]
  },
  {
   "cell_type": "code",
   "execution_count": 233,
   "id": "62dc9025",
   "metadata": {},
   "outputs": [
    {
     "data": {
      "image/png": "[encoded data removed]",
      "text/plain": [
       "<Figure size 720x576 with 4 Axes>"
      ]
     },
     "metadata": {
      "needs_background": "light"
     },
     "output_type": "display_data"
    }
   ],
   "source": [
    "model.plot_diagnostics(figsize=(10,8))\n",
    "plt.show()"
   ]
  },
  {
   "cell_type": "markdown",
   "id": "774ff613",
   "metadata": {},
   "source": [
    "Standardized residual: There seems to be some variance.\n",
    "\n",
    "Histogram: The density plot suggest normal distribution with mean slighlty shifted towards right.\n",
    "\n",
    "Theoretical Quantiles: Mostly the dots fall perfectly in line with the red line. Any significant deviations would imply the distribution is skewed.\n",
    "\n",
    "Correlogram: The Correlogram, (or ACF plot) shows the residual errors are not autocorrelated. The ACF plot would imply that there is some pattern in the residual errors which are not explained in the model. So we will need to look for more X’s (predictors) to the model.\n",
    "\n",
    "Overall, the model seems to be a good fit. So, let's use it to forecast."
   ]
  },
  {
   "cell_type": "code",
   "execution_count": 234,
   "id": "0a15242c",
   "metadata": {},
   "outputs": [],
   "source": [
    "auto_y_pred, confint = model.predict(n_periods=17, return_conf_int=True)"
   ]
  },
  {
   "cell_type": "code",
   "execution_count": 235,
   "id": "d7b57116",
   "metadata": {},
   "outputs": [
    {
     "data": {
      "image/png": "[encoded data removed]",
      "text/plain": [
       "<Figure size 432x288 with 1 Axes>"
      ]
     },
     "metadata": {
      "needs_background": "light"
     },
     "output_type": "display_data"
    }
   ],
   "source": [
    "plt.plot(auto_y_pred, color='blue', label='Prediction Value')\n",
    "plt.plot(y_actual, color='red', label = 'Actual Value')\n",
    "plt.legend(loc = 'best')\n",
    "plt.show()"
   ]
  },
  {
   "cell_type": "code",
   "execution_count": 236,
   "id": "d2b0f875",
   "metadata": {},
   "outputs": [
    {
     "data": {
      "text/plain": [
       "0.1895580156436858"
      ]
     },
     "execution_count": 236,
     "metadata": {},
     "output_type": "execute_result"
    }
   ],
   "source": [
    "np.sqrt(mean_squared_error(auto_y_pred, y_actual))"
   ]
  },
  {
   "cell_type": "code",
   "execution_count": null,
   "id": "ec5c689f",
   "metadata": {},
   "outputs": [],
   "source": []
  }
 ],
 "metadata": {
  "kernelspec": {
   "display_name": "Python 3 (ipykernel)",
   "language": "python",
   "name": "python3"
  },
  "language_info": {
   "codemirror_mode": {
    "name": "ipython",
    "version": 3
   },
   "file_extension": ".py",
   "mimetype": "text/x-python",
   "name": "python",
   "nbconvert_exporter": "python",
   "pygments_lexer": "ipython3",
   "version": "3.9.12"
  }
 },
 "nbformat": 4,
 "nbformat_minor": 5
}
